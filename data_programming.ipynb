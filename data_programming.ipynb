{
 "cells": [
  {
   "cell_type": "markdown",
   "id": "ba7312c9",
   "metadata": {},
   "source": [
    "# Question 1"
   ]
  },
  {
   "cell_type": "markdown",
   "id": "694e9df2",
   "metadata": {},
   "source": [
    "###### What data type is each of the following (evaluate where necessary)?"
   ]
  },
  {
   "cell_type": "markdown",
   "id": "02556f74",
   "metadata": {},
   "source": [
    "type(5)\n",
    "integer"
   ]
  },
  {
   "cell_type": "markdown",
   "id": "05f60ccf",
   "metadata": {},
   "source": [
    "type(5.0)\n",
    "float "
   ]
  },
  {
   "cell_type": "markdown",
   "id": "b76e8553",
   "metadata": {},
   "source": [
    "type(5>1)\n",
    "boolean"
   ]
  },
  {
   "cell_type": "markdown",
   "id": "1468a452",
   "metadata": {},
   "source": [
    "type('5')\n",
    "string"
   ]
  },
  {
   "cell_type": "markdown",
   "id": "7b588e34",
   "metadata": {},
   "source": [
    "type(5*2)\n",
    "integer"
   ]
  },
  {
   "cell_type": "markdown",
   "id": "479cf203",
   "metadata": {},
   "source": [
    "type('5' * 2)\n",
    "str"
   ]
  },
  {
   "cell_type": "code",
   "execution_count": 10,
   "id": "e2837219",
   "metadata": {},
   "outputs": [
    {
     "data": {
      "text/plain": [
       "str"
      ]
     },
     "execution_count": 10,
     "metadata": {},
     "output_type": "execute_result"
    }
   ],
   "source": [
    "type('5' + '2')\n",
    "str"
   ]
  },
  {
   "cell_type": "code",
   "execution_count": 11,
   "id": "037a19f7",
   "metadata": {},
   "outputs": [
    {
     "data": {
      "text/plain": [
       "float"
      ]
     },
     "execution_count": 11,
     "metadata": {},
     "output_type": "execute_result"
    }
   ],
   "source": [
    "type(5/2)\n",
    "float"
   ]
  },
  {
   "cell_type": "code",
   "execution_count": 12,
   "id": "225658f3",
   "metadata": {},
   "outputs": [
    {
     "data": {
      "text/plain": [
       "int"
      ]
     },
     "execution_count": 12,
     "metadata": {},
     "output_type": "execute_result"
    }
   ],
   "source": [
    "type(5%2)\n",
    "int"
   ]
  },
  {
   "cell_type": "code",
   "execution_count": 13,
   "id": "ea65516e",
   "metadata": {},
   "outputs": [
    {
     "data": {
      "text/plain": [
       "set"
      ]
     },
     "execution_count": 13,
     "metadata": {},
     "output_type": "execute_result"
    }
   ],
   "source": [
    "type({5, 2, 1})\n",
    "set"
   ]
  },
  {
   "cell_type": "code",
   "execution_count": 14,
   "id": "8446db71",
   "metadata": {},
   "outputs": [
    {
     "data": {
      "text/plain": [
       "bool"
      ]
     },
     "execution_count": 14,
     "metadata": {},
     "output_type": "execute_result"
    }
   ],
   "source": [
    "type(5 == 3)\n",
    "bool"
   ]
  },
  {
   "cell_type": "code",
   "execution_count": null,
   "id": "d0fc0ac6",
   "metadata": {},
   "outputs": [],
   "source": [
    "Pi (the number)\n",
    "float"
   ]
  },
  {
   "cell_type": "markdown",
   "id": "1c0a128d",
   "metadata": {},
   "source": [
    "# Question 2"
   ]
  },
  {
   "cell_type": "markdown",
   "id": "21a37217",
   "metadata": {},
   "source": [
    "#### Write (and evaluate) python expressions that answer these questions:"
   ]
  },
  {
   "cell_type": "markdown",
   "id": "b5d8dc84",
   "metadata": {},
   "source": [
    "###### a. How many letters are there in 'Supercalifragilisticexpialidocious'?"
   ]
  },
  {
   "cell_type": "code",
   "execution_count": 19,
   "id": "3b7d254d",
   "metadata": {},
   "outputs": [
    {
     "name": "stdout",
     "output_type": "stream",
     "text": [
      "34\n"
     ]
    }
   ],
   "source": [
    "str = 'Supercalifragilisticexpialidocious'\n",
    "num_letters = len(str)\n",
    "print(num_letters)"
   ]
  },
  {
   "cell_type": "markdown",
   "id": "790be317",
   "metadata": {},
   "source": [
    "###### b. Does 'Supercalifragilisticexpialidocious' contain 'ice' as a substring?"
   ]
  },
  {
   "cell_type": "code",
   "execution_count": 19,
   "id": "92299cb6",
   "metadata": {},
   "outputs": [
    {
     "name": "stdout",
     "output_type": "stream",
     "text": [
      "True\n"
     ]
    }
   ],
   "source": [
    "string_2 = 'Supercalifragilisticexpialidocious'\n",
    "str_2 = 'ice'\n",
    "contains_substring = str_2 in string_2\n",
    "print(contains_substring)"
   ]
  },
  {
   "cell_type": "markdown",
   "id": "f31f021d",
   "metadata": {},
   "source": [
    "###### c. Which of the following words is the longest: Supercalifragilisticexpialidocious, Honorificabilitudinitatibus, or Bababadalgharaghtakamminarronnkonn?"
   ]
  },
  {
   "cell_type": "code",
   "execution_count": null,
   "id": "d4bbee37",
   "metadata": {},
   "outputs": [],
   "source": [
    "words = ['Supercalifragilisticexpialidocious', 'Honorificabilitudinitatibus', 'Bababadalgharaghtakamminarronnkonn']\n",
    "longest_word = max(words, key=len)\n",
    "print(longest_word)"
   ]
  },
  {
   "cell_type": "markdown",
   "id": "795fe436",
   "metadata": {},
   "source": [
    "###### d. Which composer comes first in the dictionary: 'Berlioz', 'Borodin', 'Brian', 'Bartok', 'Bellini', 'Buxtehude', 'Bernstein'. Which one comes last?"
   ]
  },
  {
   "cell_type": "code",
   "execution_count": 24,
   "id": "b7eb44e5",
   "metadata": {},
   "outputs": [
    {
     "name": "stdout",
     "output_type": "stream",
     "text": [
      "First composer: Bartok\n",
      "Last composer: Buxtehude\n"
     ]
    }
   ],
   "source": [
    "comp = ['Berlioz', 'Borodin', 'Brian', 'Bartok', 'Bellini', 'Buxtehude', 'Bernstein']\n",
    "first_comp = min(comp)\n",
    "last_comp = max(comp)\n",
    "print(\"First composer:\", first_comp)\n",
    "print(\"Last composer:\", last_comp)"
   ]
  },
  {
   "cell_type": "markdown",
   "id": "bf1a8fa3",
   "metadata": {},
   "source": [
    "# Question 3"
   ]
  },
  {
   "cell_type": "markdown",
   "id": "0b5ed0a0",
   "metadata": {},
   "source": [
    "###### Implement function triangleArea(a,b,c) that takes as input the lengths of the 3 sides of a triangle and returns the area of the triangle. By Heron's formula, the area of a triangle with side lengths a, b, and c is s(s-a)(s-b)(s-c), where\n",
    "s=(a+b+c)/2.\n",
    " triangleArea(2,2,2)"
   ]
  },
  {
   "cell_type": "code",
   "execution_count": 34,
   "id": "dd86f387",
   "metadata": {},
   "outputs": [],
   "source": [
    "import math\n",
    "\n",
    "def tri_area(a,b,c):\n",
    "    s=(a+b+c)/2\n",
    "    area= math.sqrt(s*(s-a)*(s-b)*(s-c))\n",
    "    return area"
   ]
  },
  {
   "cell_type": "code",
   "execution_count": 42,
   "id": "1e617c87",
   "metadata": {},
   "outputs": [
    {
     "data": {
      "text/plain": [
       "1.7320508075688772"
      ]
     },
     "execution_count": 42,
     "metadata": {},
     "output_type": "execute_result"
    }
   ],
   "source": [
    "tri_area(2,2,2)\n"
   ]
  },
  {
   "cell_type": "markdown",
   "id": "38e1504b",
   "metadata": {},
   "source": [
    "# Question  4\n"
   ]
  },
  {
   "cell_type": "markdown",
   "id": "440c3bea",
   "metadata": {},
   "source": [
    "###### Write a program in python to separate odd and even integers in separate arrays. Go to the editor\n",
    "Test Data :\n",
    "Input the number of elements to be stored in the array :5\n",
    "\n",
    "Input 5 elements in the array : element - 0 : 25\n",
    "\n",
    "element - 1 : 47\n",
    "\n",
    "element - 2 : 42\n",
    "\n",
    "element - 3 : 56\n",
    "\n",
    "element - 4 : 32 \n",
    "\n",
    "Expected Output:\n",
    "\n",
    "The Even elements are: 42 56 32\n",
    "\n",
    "The Odd elements are : 25 47"
   ]
  },
  {
   "cell_type": "code",
   "execution_count": 2,
   "id": "fc4ba1d1",
   "metadata": {},
   "outputs": [
    {
     "name": "stdout",
     "output_type": "stream",
     "text": [
      "Input the number of elements to be stored in the array: 5\n",
      "Input 5 elements in the array:\n",
      "element - 0: 27\n",
      "element - 1: 42\n",
      "element - 2: 47\n",
      "element - 3: 56\n",
      "element - 4: 32\n",
      "\n",
      "The Even elements are: 42 56 32\n",
      "The Odd elements are: 27 47\n"
     ]
    }
   ],
   "source": [
    "n = int(input(\"Input the number of elements to be stored in the array: \"))\n",
    "\n",
    "even_numbers = []\n",
    "odd_numbers = []\n",
    "\n",
    "print(\"Input {} elements in the array:\".format(n))\n",
    "for i in range(n):\n",
    "    element = int(input(\"element - {}: \".format(i)))\n",
    "    if element % 2 == 0:\n",
    "        even_numbers.append(element)\n",
    "    else:\n",
    "        odd_numbers.append(element)\n",
    "\n",
    "print(\"\\nThe Even elements are:\", \" \".join(str(num) for num in even_numbers))\n",
    "print(\"The Odd elements are:\", \" \".join(str(num) for num in odd_numbers))"
   ]
  },
  {
   "cell_type": "markdown",
   "id": "d0426c73",
   "metadata": {},
   "source": [
    "# Question 5 "
   ]
  },
  {
   "cell_type": "markdown",
   "id": "f312d80d",
   "metadata": {},
   "source": [
    "###### a. Write a function inside(x,y,x1,y1,x2,y2) that returns True or False depending on whether the point (x,y) lies in the rectangle with lower left corner (x1,y1) and upper right corner (x2,y2).\n",
    "     >>> inside(1,1,0,0,2,3)\n",
    "     True\n",
    "     >>> inside(-1,-1,0,0,2,3)\n",
    "     False"
   ]
  },
  {
   "cell_type": "code",
   "execution_count": 4,
   "id": "bfda20ae",
   "metadata": {},
   "outputs": [],
   "source": [
    "def inside(x, y, x1, y1, x2, y2):\n",
    "    if x1 <= x <= x2 and y1 <= y <= y2:\n",
    "        return True\n",
    "    else:\n",
    "        return False"
   ]
  },
  {
   "cell_type": "code",
   "execution_count": 5,
   "id": "75368b97",
   "metadata": {},
   "outputs": [
    {
     "name": "stdout",
     "output_type": "stream",
     "text": [
      "True\n"
     ]
    }
   ],
   "source": [
    "print(inside(1, 1, 0, 0, 2, 3))"
   ]
  },
  {
   "cell_type": "code",
   "execution_count": 6,
   "id": "abd0943e",
   "metadata": {},
   "outputs": [
    {
     "name": "stdout",
     "output_type": "stream",
     "text": [
      "False\n"
     ]
    }
   ],
   "source": [
    "print(inside(-1, -1, 0, 0, 2, 3))"
   ]
  },
  {
   "cell_type": "markdown",
   "id": "e2467b29",
   "metadata": {},
   "source": [
    "###### b. Use function inside() from part a. to write an expression that tests whether the point (1,1) lies in both of the following rectangles: one with lower left corner (0.3, 0.5) and upper right corner (1.1, 0.7) and the other with lower left corner (0.5, 0.2) and upper right corner (1.1, 2)."
   ]
  },
  {
   "cell_type": "code",
   "execution_count": 8,
   "id": "a3043a8e",
   "metadata": {},
   "outputs": [
    {
     "name": "stdout",
     "output_type": "stream",
     "text": [
      "False\n"
     ]
    }
   ],
   "source": [
    "rectangle1 = inside(1, 1, 0.3, 0.5, 1.1, 0.7)\n",
    "\n",
    "rectangle2 = inside(1, 1, 0.5, 0.2, 1.1, 2)\n",
    "\n",
    "\n",
    "lies_in_both = rectangle1 and rectangle2\n",
    "\n",
    "print(lies_in_both)\n"
   ]
  },
  {
   "cell_type": "markdown",
   "id": "dcb0a1ee",
   "metadata": {},
   "source": [
    "# Question 6"
   ]
  },
  {
   "cell_type": "code",
   "execution_count": 11,
   "id": "0c07f0e3",
   "metadata": {},
   "outputs": [
    {
     "name": "stdout",
     "output_type": "stream",
     "text": [
      "Enter your word : dayana\n",
      "ayanaday\n"
     ]
    }
   ],
   "source": [
    "def pig(word):\n",
    "    vowels = ['a', 'e', 'i', 'o', 'u']\n",
    "    word = word.lower()\n",
    "    if word[0] in vowels:\n",
    "        return word + 'way'\n",
    "    else:\n",
    "        return word[1:] + word[0] + 'ay'\n",
    "\n",
    "val = input(\"Enter your word : \")\n",
    "print(pig(val))"
   ]
  },
  {
   "cell_type": "markdown",
   "id": "3c0860c0",
   "metadata": {},
   "source": [
    "# Question 7 (refer the second notebook)"
   ]
  },
  {
   "cell_type": "markdown",
   "id": "c0091b30",
   "metadata": {},
   "source": [
    "# Question 8 (refer the second notebook)"
   ]
  },
  {
   "cell_type": "markdown",
   "id": "e17e9fc8",
   "metadata": {},
   "source": [
    "# Question 9"
   ]
  },
  {
   "cell_type": "markdown",
   "id": "54b65b58",
   "metadata": {},
   "source": [
    "###### Trying to add incompatible variables, as in adding 6 + ‘a’"
   ]
  },
  {
   "cell_type": "code",
   "execution_count": 19,
   "id": "f8920715",
   "metadata": {},
   "outputs": [
    {
     "name": "stdout",
     "output_type": "stream",
     "text": [
      "Exception Name: TypeError\n"
     ]
    }
   ],
   "source": [
    "try:\n",
    "    6+'a'\n",
    "except Exception as e:\n",
    "    exception_name = type(e).__name__\n",
    "    print(\"Exception Name:\", exception_name)"
   ]
  },
  {
   "cell_type": "markdown",
   "id": "dd0ecdba",
   "metadata": {},
   "source": [
    "###### Referring to the 12th item of a list that has only 10 items"
   ]
  },
  {
   "cell_type": "code",
   "execution_count": 20,
   "id": "e7b354b1",
   "metadata": {},
   "outputs": [
    {
     "name": "stdout",
     "output_type": "stream",
     "text": [
      "Exception Type: IndexError\n"
     ]
    }
   ],
   "source": [
    "my_list = [1, 2, 3, 4, 5, 6, 7, 8, 9, 10]\n",
    "try:\n",
    "    item = my_list[11]  \n",
    "except Exception as e:\n",
    "    exception_type = type(e).__name__\n",
    "    print(\"Exception Type:\", exception_type)"
   ]
  },
  {
   "cell_type": "markdown",
   "id": "0f8c5b09",
   "metadata": {},
   "source": [
    "###### Using a value that is out of range for a function’s input, such as calling math.sqrt(-1.0)"
   ]
  },
  {
   "cell_type": "code",
   "execution_count": 21,
   "id": "8522141d",
   "metadata": {},
   "outputs": [
    {
     "name": "stdout",
     "output_type": "stream",
     "text": [
      "Exception Type: ValueError\n"
     ]
    }
   ],
   "source": [
    "import math\n",
    "try:\n",
    "    result = math.sqrt(-1.0)  \n",
    "except Exception as e:\n",
    "    exception_type = type(e).__name__\n",
    "    print(\"Exception Type:\", exception_type)\n",
    "    \n",
    "    "
   ]
  },
  {
   "cell_type": "markdown",
   "id": "dbba0b2b",
   "metadata": {},
   "source": [
    "###### Using an undeclared variable, such as print(x) when x has not been defined"
   ]
  },
  {
   "cell_type": "code",
   "execution_count": 22,
   "id": "6a07e47c",
   "metadata": {},
   "outputs": [
    {
     "name": "stdout",
     "output_type": "stream",
     "text": [
      "Exception Type: NameError\n"
     ]
    }
   ],
   "source": [
    "try:\n",
    "    print(x)  \n",
    "except Exception as e:\n",
    "    exception_type = type(e).__name__\n",
    "    print(\"Exception Type:\", exception_type)"
   ]
  },
  {
   "cell_type": "markdown",
   "id": "a3073b0a",
   "metadata": {},
   "source": [
    "###### Trying to open a file that does not exist, such as mistyping the file name or looking in the wrong directory."
   ]
  },
  {
   "cell_type": "code",
   "execution_count": 35,
   "id": "aa6ec513",
   "metadata": {},
   "outputs": [
    {
     "name": "stdout",
     "output_type": "stream",
     "text": [
      "Exception Type: FileNotFoundError\n"
     ]
    }
   ],
   "source": [
    "try:\n",
    "    file = open(\"abcd.txt\") \n",
    "except Exception as e:\n",
    "    exception_type = type(e).__name__\n",
    "    print(\"Exception Type:\", exception_type)"
   ]
  },
  {
   "cell_type": "markdown",
   "id": "70bfb04d",
   "metadata": {},
   "source": [
    "# Question 10"
   ]
  },
  {
   "cell_type": "markdown",
   "id": "36b4aeb6",
   "metadata": {},
   "source": [
    "######  Write a function called frequencies() that takes a string as its only parameter, and returns a list of integers, showing the number of times each character appears in the text. Your function may ignore any characters that are not in letters.\n",
    " "
   ]
  },
  {
   "cell_type": "code",
   "execution_count": 28,
   "id": "f366e369",
   "metadata": {},
   "outputs": [],
   "source": [
    "def frequencies(text):\n",
    "    letters = 'abcdefghijklmnopqrstuvwxyz'\n",
    "    text = text.lower()\n",
    "    freq_list = [0] * 26 \n",
    "\n",
    "    for char in text:\n",
    "        if char in letters:\n",
    "            index = letters.index(char)\n",
    "            freq_list[index] += 1\n",
    "\n",
    "    return freq_list"
   ]
  },
  {
   "cell_type": "code",
   "execution_count": 29,
   "id": "94a1a971",
   "metadata": {},
   "outputs": [
    {
     "name": "stdout",
     "output_type": "stream",
     "text": [
      "[1, 1, 1, 3, 5, 1, 1, 2, 1, 0, 1, 0, 1, 2, 4, 0, 1, 2, 0, 3, 1, 0, 1, 1, 0, 0]\n",
      "[1, 0, 0, 0, 1, 0, 0, 0, 0, 0, 0, 1, 0, 0, 0, 2, 0, 0, 0, 0, 0, 0, 0, 0, 0, 0]\n"
     ]
    }
   ],
   "source": [
    "result1 = frequencies('The quick red fox got bored and went home.')\n",
    "print(result1) \n",
    "\n",
    "result2 = frequencies('apple')\n",
    "print(result2)  "
   ]
  },
  {
   "cell_type": "code",
   "execution_count": null,
   "id": "06768c91",
   "metadata": {},
   "outputs": [],
   "source": []
  }
 ],
 "metadata": {
  "celltoolbar": "Raw Cell Format",
  "kernelspec": {
   "display_name": "Python 3 (ipykernel)",
   "language": "python",
   "name": "python3"
  },
  "language_info": {
   "codemirror_mode": {
    "name": "ipython",
    "version": 3
   },
   "file_extension": ".py",
   "mimetype": "text/x-python",
   "name": "python",
   "nbconvert_exporter": "python",
   "pygments_lexer": "ipython3",
   "version": "3.9.13"
  }
 },
 "nbformat": 4,
 "nbformat_minor": 5
}

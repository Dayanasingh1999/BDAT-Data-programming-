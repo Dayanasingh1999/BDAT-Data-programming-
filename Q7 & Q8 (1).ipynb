{
 "cells": [
  {
   "cell_type": "markdown",
   "id": "184ca842",
   "metadata": {},
   "source": [
    "# Question 7 "
   ]
  },
  {
   "cell_type": "code",
   "execution_count": null,
   "id": "f5d604f2",
   "metadata": {},
   "outputs": [],
   "source": []
  },
  {
   "cell_type": "code",
   "execution_count": 19,
   "id": "1c51f739",
   "metadata": {},
   "outputs": [],
   "source": [
    "def bldcount():\n",
    "    with open('data_prog.txt', 'r') as file:\n",
    "    # Step 2: Read the content of the file\n",
    "        content = file.read()\n",
    "    \n",
    "    # Step 3: Split the content by spaces\n",
    "        blood_groups = content.split()\n",
    "    \n",
    "    # Step 4: Create a dictionary to store the count\n",
    "        count_dict = {}\n",
    "    \n",
    "    # Step 5: Iterate through blood groups and update the count\n",
    "        for group in blood_groups:\n",
    "            if group in count_dict:\n",
    "                count_dict[group] += 1\n",
    "            else:\n",
    "                count_dict[group] = 1\n",
    "    \n",
    "    # Step 6: Print the count of people per blood group\n",
    "        for group, count in count_dict.items():\n",
    "            print(f\"{group}: {count}\")"
   ]
  },
  {
   "cell_type": "code",
   "execution_count": 20,
   "id": "fdd3ac1f",
   "metadata": {},
   "outputs": [
    {
     "name": "stdout",
     "output_type": "stream",
     "text": [
      "AB: 13\n",
      "B: 1\n",
      "O: 15\n",
      "A: 15\n"
     ]
    }
   ],
   "source": [
    "bldcount()"
   ]
  },
  {
   "cell_type": "code",
   "execution_count": 15,
   "id": "ddf29074",
   "metadata": {},
   "outputs": [],
   "source": [
    "#currency_conversions = {}\n",
    "def curconv(currency_input,amount_input):\n",
    "    with open('data_prog_2.txt', 'r') as file:\n",
    "        for line in file:\n",
    "            currency, rate, currency_name = line.strip().split('\\t')\n",
    "            rate = float(rate)\n",
    "            currency_conversions[currency] = rate\n",
    "\n",
    "# Get user input for currency and amount\n",
    "    #currency_input = input(\"Enter the currency: \")\n",
    "    #amount_input = float(input(\"Enter the amount: \"))\n",
    "\n",
    "# Convert the amount to USD\n",
    "    if currency_input in currency_conversions:\n",
    "        conversion_rate = currency_conversions[currency_input]\n",
    "        usd_amount = amount_input * conversion_rate\n",
    "        print(f\"{amount_input} {currency_input} is equal to {usd_amount} USD\")\n",
    "    else:\n",
    "        print(\"Currency conversion not available for the given currency.\")\n",
    "    \n",
    "\n",
    "    \n"
   ]
  },
  {
   "cell_type": "code",
   "execution_count": 16,
   "id": "6c2a09b6",
   "metadata": {},
   "outputs": [
    {
     "name": "stdout",
     "output_type": "stream",
     "text": [
      "45 EUR is equal to 55.334448 USD\n"
     ]
    }
   ],
   "source": [
    "curconv('EUR',45)"
   ]
  },
  {
   "cell_type": "code",
   "execution_count": null,
   "id": "6fc382da",
   "metadata": {},
   "outputs": [],
   "source": []
  }
 ],
 "metadata": {
  "kernelspec": {
   "display_name": "Python 3 (ipykernel)",
   "language": "python",
   "name": "python3"
  },
  "language_info": {
   "codemirror_mode": {
    "name": "ipython",
    "version": 3
   },
   "file_extension": ".py",
   "mimetype": "text/x-python",
   "name": "python",
   "nbconvert_exporter": "python",
   "pygments_lexer": "ipython3",
   "version": "3.9.13"
  }
 },
 "nbformat": 4,
 "nbformat_minor": 5
}
